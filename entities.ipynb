{
 "cells": [
  {
   "cell_type": "markdown",
   "id": "d3e33eec",
   "metadata": {},
   "source": [
    "#### make training set for \n",
    "\n",
    "- I want 1 loempia and 2 nasi goreng\n",
    "- 1 loempia and 2 nasi goreng\n",
    "- 1 loempia and 2 nasi goreng please\n",
    "- I would like to order 1 loempia and 2 nasi goreng"
   ]
  },
  {
   "cell_type": "code",
   "execution_count": null,
   "id": "fad9a167",
   "metadata": {},
   "outputs": [],
   "source": [
    "# each tuple consists of 2 values: the string representing an utterance and \n",
    "# the dictionary for the annotations of the entities found in that utterance\n",
    "# includes its start and end positions in terms of characters composing the \n",
    "# the utterance and the label to be assigned to the entity\n",
    "train_exams = [\n",
    "    ('I want 1 loempia and 2 nasi goreng', {\n",
    "        'entities': [()]\n",
    "    }),\n",
    "    ('1 loempia and 2 nasi goreng', {\n",
    "        'entities': [()]\n",
    "    }),\n",
    "    ('1 loempia and 2 nasi goreng please', {\n",
    "        'entities': [()]\n",
    "    })\n",
    "    \n",
    "]"
   ]
  },
  {
   "cell_type": "code",
   "execution_count": 175,
   "id": "42f49482",
   "metadata": {},
   "outputs": [],
   "source": [
    "import spacy\n",
    "nlp = spacy.load('en_core_web_sm')\n",
    "\n",
    "\n",
    "doc = nlp('I want 1 loempia and 2 nasi goreng. 1 loempia and 2 nasi goreng. 1 loempia and 2 nasi goreng please. I would like to order 1 loempia and 2 nasi goreng')\n",
    "#f = open('test.txt', 'rb')\n",
    "#contents = f.read()\n",
    "#doc = nlp(contents.decode('utf8'))\n",
    "train_exams = []\n",
    "\n",
    "food = ['loempia', 'nasi goreng']\n",
    "for sent in doc.sents:\n",
    "    entities = []\n",
    "    for token in sent:\n",
    "        if token.ent_type != 0:\n",
    "            start = token.idx - sent.start_char\n",
    "            if token.text in food:\n",
    "                entity = (start, start + len(token), 'FOOD')\n",
    "            else:\n",
    "                entity = (start, start + len(token), token.ent_type_)\n",
    "            entities.append(entity)\n",
    "    tpl = (sent.text, {'entities': entities})\n",
    "    train_exams.append(tpl)\n",
    "             "
   ]
  },
  {
   "cell_type": "code",
   "execution_count": 176,
   "id": "3723f58a",
   "metadata": {},
   "outputs": [
    {
     "name": "stdout",
     "output_type": "stream",
     "text": [
      "[('I want 1 loempia and 2 nasi goreng.', {'entities': [(7, 8, 'CARDINAL'), (21, 22, 'CARDINAL')]}), ('1 loempia and 2 nasi goreng.', {'entities': [(0, 1, 'CARDINAL'), (14, 15, 'CARDINAL')]}), ('1 loempia and 2 nasi goreng please.', {'entities': [(0, 1, 'CARDINAL'), (14, 15, 'CARDINAL')]}), ('I would like to order 1 loempia and 2 nasi goreng', {'entities': [(22, 23, 'CARDINAL'), (36, 37, 'CARDINAL')]})]\n"
     ]
    }
   ],
   "source": [
    "print(train_exams)"
   ]
  },
  {
   "cell_type": "markdown",
   "id": "b3487105",
   "metadata": {},
   "source": [
    "[('I want 1 loempia and 2 nasi goreng.', {'entities': [(7, 8, 'CARDINAL'), (21, 22, 'CARDINAL')]}), ('1 loempia and 2 nasi goreng.', {'entities': [(0, 1, 'CARDINAL'), (14, 15, 'CARDINAL')]}), ('1 loempia and 2 nasi goreng please.', {'entities': [(0, 1, 'CARDINAL'), (14, 15, 'CARDINAL')]}), ('I would like to order 1 loempia and 2 nasi goreng', {'entities': [(22, 23, 'CARDINAL'), (36, 37, 'CARDINAL')]})]"
   ]
  },
  {
   "cell_type": "code",
   "execution_count": null,
   "id": "ca5009fb",
   "metadata": {},
   "outputs": [],
   "source": []
  }
 ],
 "metadata": {
  "kernelspec": {
   "display_name": "Python 3",
   "language": "python",
   "name": "python3"
  },
  "language_info": {
   "codemirror_mode": {
    "name": "ipython",
    "version": 3
   },
   "file_extension": ".py",
   "mimetype": "text/x-python",
   "name": "python",
   "nbconvert_exporter": "python",
   "pygments_lexer": "ipython3",
   "version": "3.8.8"
  }
 },
 "nbformat": 4,
 "nbformat_minor": 5
}
