{
 "cells": [
  {
   "cell_type": "code",
   "execution_count": 1,
   "id": "039aaf5f",
   "metadata": {},
   "outputs": [],
   "source": [
    "import nltk\n",
    "from nltk.stem import PorterStemmer\n",
    "stemmer = PorterStemmer()\n",
    "import json\n",
    "import pickle\n",
    "import numpy as np\n",
    "from keras.models import Sequential\n",
    "from keras.layers import Dense, Activation, Dropout\n",
    "# from keras.optimizers import SGD\n",
    "import random\n",
    "from sklearn.preprocessing import LabelEncoder"
   ]
  },
  {
   "cell_type": "markdown",
   "id": "430ccee6",
   "metadata": {},
   "source": [
    "### Import and load the data file"
   ]
  },
  {
   "cell_type": "code",
   "execution_count": 2,
   "id": "a35e0593",
   "metadata": {},
   "outputs": [
    {
     "name": "stdout",
     "output_type": "stream",
     "text": [
      "{'intents': [{'tag': 'greeting', 'patterns': ['Hi', 'Hey', 'Hello', 'Hey there', 'Hello restaurant Taiwan'], 'responses': ['Hello and welcome to restaurant Taiwan', 'Hey there', 'Hi']}, {'tag': 'order', 'patterns': ['I want food', 'I want to order food asap', 'Can you please take my order for food?', 'Take my order please', 'I want to place an order for Chinese food', 'I want to place an order', 'Would you please help me to order food?', 'Can you please order food for me'], 'responses': ['Sure, what would you like to order today?', 'Definitely, what would you like to have today?', \"Certainly, I'll try to help you with that. What are you feeling like eating today?\"]}, {'tag': 'opening_hours', 'patterns': ['what are the opening hours?', 'When is the restaurant closed?', 'Could you please give me the opening hours of the restaurant?', 'When is the restaurant open?'], 'responses': ['The restaurant is open from Thursday-Sunday from 5-10:30pm']}, {'tag': 'reservation', 'patterns': ['I want to make a reservation', 'Can you please help me to make a reservation?', 'Would you help me to make a reservation?'], 'responses': ['Sure, for how many people would you like to make a reservation and when?']}, {'tag': 'user_thanks', 'patterns': ['ok waiting thank you', 'well thank you', 'ok thank you', 'Thank you so much', 'Thanks a lot', 'Thank you'], 'responses': ['Thanks a lot for your cooperation', \"I'm glad to be able to help you, see you next time!\", 'Bye! Have a nice day!']}]}\n"
     ]
    }
   ],
   "source": [
    "with open('intents.json', 'r') as f:\n",
    "    intents = json.load(f)\n",
    "\n",
    "print(intents)"
   ]
  },
  {
   "cell_type": "code",
   "execution_count": 3,
   "id": "da135378",
   "metadata": {},
   "outputs": [],
   "source": [
    "training_sentences = []\n",
    "training_sentences_stem = []\n",
    "training_labels = []\n",
    "labels = []\n",
    "documents = []\n",
    "#responses = []"
   ]
  },
  {
   "cell_type": "markdown",
   "id": "ecaba193",
   "metadata": {},
   "source": [
    "### Preprocessing"
   ]
  },
  {
   "cell_type": "code",
   "execution_count": 4,
   "id": "9597c635",
   "metadata": {},
   "outputs": [],
   "source": [
    "# functions\n",
    "\n",
    "def tokenize(sentence):\n",
    "    return nltk.word_tokenize(sentence)\n",
    "\n",
    "def stem(word):\n",
    "    return stemmer.stem(word.lower())\n",
    "\n",
    "def bag_of_words(tokenized_sentence, training_sentences, doc):\n",
    "    \n",
    "    tok_sens = []\n",
    "    bag = []\n",
    "    for w in tokenized_sentence:\n",
    "        word = stem(w)\n",
    "        tok_sens.append(word)\n",
    "        \n",
    "    for w in training_sentences:\n",
    "        bag.append(1) if w in tok_sens else bag.append(0)\n",
    "    print(bag)\n",
    "    \n",
    "    # output is a '0' for each tag and '1' for current tag (for each pattern)\n",
    "    output_row = list(output_empty)\n",
    "    output_row[labels.index(doc[1])] = 1\n",
    "    training.append([bag, output_row])\n",
    "            \n",
    "    return bag"
   ]
  },
  {
   "cell_type": "code",
   "execution_count": 5,
   "id": "d0e5979b",
   "metadata": {},
   "outputs": [],
   "source": [
    "for intent in intents['intents']:\n",
    "    # add to our labels \n",
    "    training_label = intent['tag']\n",
    "    training_labels.append(training_label)\n",
    "    for pattern in intent['patterns']:\n",
    "        # tokenize each word\n",
    "        w = tokenize(pattern)\n",
    "        training_sentences.extend(w)\n",
    "    #responses.append(intent['responses'])\n",
    "        # add document in the corpus\n",
    "        documents.append((w, intent['tag']))\n",
    "       \n",
    "        \n"
   ]
  },
  {
   "cell_type": "code",
   "execution_count": 6,
   "id": "8aa3a757",
   "metadata": {},
   "outputs": [],
   "source": [
    "# print(responses)"
   ]
  },
  {
   "cell_type": "code",
   "execution_count": 7,
   "id": "ea211995",
   "metadata": {},
   "outputs": [
    {
     "name": "stdout",
     "output_type": "stream",
     "text": [
      "[(['Hi'], 'greeting'), (['Hey'], 'greeting'), (['Hello'], 'greeting'), (['Hey', 'there'], 'greeting'), (['Hello', 'restaurant', 'Taiwan'], 'greeting'), (['I', 'want', 'food'], 'order'), (['I', 'want', 'to', 'order', 'food', 'asap'], 'order'), (['Can', 'you', 'please', 'take', 'my', 'order', 'for', 'food', '?'], 'order'), (['Take', 'my', 'order', 'please'], 'order'), (['I', 'want', 'to', 'place', 'an', 'order', 'for', 'Chinese', 'food'], 'order'), (['I', 'want', 'to', 'place', 'an', 'order'], 'order'), (['Would', 'you', 'please', 'help', 'me', 'to', 'order', 'food', '?'], 'order'), (['Can', 'you', 'please', 'order', 'food', 'for', 'me'], 'order'), (['what', 'are', 'the', 'opening', 'hours', '?'], 'opening_hours'), (['When', 'is', 'the', 'restaurant', 'closed', '?'], 'opening_hours'), (['Could', 'you', 'please', 'give', 'me', 'the', 'opening', 'hours', 'of', 'the', 'restaurant', '?'], 'opening_hours'), (['When', 'is', 'the', 'restaurant', 'open', '?'], 'opening_hours'), (['I', 'want', 'to', 'make', 'a', 'reservation'], 'reservation'), (['Can', 'you', 'please', 'help', 'me', 'to', 'make', 'a', 'reservation', '?'], 'reservation'), (['Would', 'you', 'help', 'me', 'to', 'make', 'a', 'reservation', '?'], 'reservation'), (['ok', 'waiting', 'thank', 'you'], 'user_thanks'), (['well', 'thank', 'you'], 'user_thanks'), (['ok', 'thank', 'you'], 'user_thanks'), (['Thank', 'you', 'so', 'much'], 'user_thanks'), (['Thanks', 'a', 'lot'], 'user_thanks'), (['Thank', 'you'], 'user_thanks')]\n"
     ]
    }
   ],
   "source": [
    "print(documents)"
   ]
  },
  {
   "cell_type": "code",
   "execution_count": 8,
   "id": "32d1f2ae",
   "metadata": {},
   "outputs": [
    {
     "name": "stdout",
     "output_type": "stream",
     "text": [
      "['hi', 'hey', 'hello', 'hey', 'there', 'hello', 'restaur', 'taiwan', 'i', 'want', 'food', 'i', 'want', 'to', 'order', 'food', 'asap', 'can', 'you', 'pleas', 'take', 'my', 'order', 'for', 'food', 'take', 'my', 'order', 'pleas', 'i', 'want', 'to', 'place', 'an', 'order', 'for', 'chines', 'food', 'i', 'want', 'to', 'place', 'an', 'order', 'would', 'you', 'pleas', 'help', 'me', 'to', 'order', 'food', 'can', 'you', 'pleas', 'order', 'food', 'for', 'me', 'what', 'are', 'the', 'open', 'hour', 'when', 'is', 'the', 'restaur', 'close', 'could', 'you', 'pleas', 'give', 'me', 'the', 'open', 'hour', 'of', 'the', 'restaur', 'when', 'is', 'the', 'restaur', 'open', 'i', 'want', 'to', 'make', 'a', 'reserv', 'can', 'you', 'pleas', 'help', 'me', 'to', 'make', 'a', 'reserv', 'would', 'you', 'help', 'me', 'to', 'make', 'a', 'reserv', 'ok', 'wait', 'thank', 'you', 'well', 'thank', 'you', 'ok', 'thank', 'you', 'thank', 'you', 'so', 'much', 'thank', 'a', 'lot', 'thank', 'you']\n"
     ]
    }
   ],
   "source": [
    "ignore_words = ['?', '!', '.', ',']\n",
    "\n",
    "for w in training_sentences:\n",
    "    if w not in ignore_words:\n",
    "        word = stem(w)\n",
    "        training_sentences_stem.append(word)\n",
    "    #    word = stem(w)\n",
    "    #    training_sentences.append(word)\n",
    "        \n",
    "print(training_sentences_stem)\n",
    "\n",
    "# version list comprehension\n",
    "#ignore_words = ['?', '!', '.', ',']\n",
    "\n",
    "#training_sentences = [stem(w) for w in training_sentences if w not in ignore_words]\n",
    "#print(training_sentences)"
   ]
  },
  {
   "cell_type": "code",
   "execution_count": 9,
   "id": "b8754620",
   "metadata": {},
   "outputs": [
    {
     "name": "stdout",
     "output_type": "stream",
     "text": [
      "['greeting', 'order', 'opening_hours', 'reservation', 'user_thanks']\n"
     ]
    }
   ],
   "source": [
    "print(training_labels)"
   ]
  },
  {
   "cell_type": "code",
   "execution_count": 10,
   "id": "f06b5738",
   "metadata": {},
   "outputs": [
    {
     "name": "stdout",
     "output_type": "stream",
     "text": [
      "['a', 'an', 'are', 'asap', 'can', 'chines', 'close', 'could', 'food', 'for', 'give', 'hello', 'help', 'hey', 'hi', 'hour', 'i', 'is', 'lot', 'make', 'me', 'much', 'my', 'of', 'ok', 'open', 'order', 'place', 'pleas', 'reserv', 'restaur', 'so', 'taiwan', 'take', 'thank', 'the', 'there', 'to', 'wait', 'want', 'well', 'what', 'when', 'would', 'you']\n",
      "['greeting', 'opening_hours', 'order', 'reservation', 'user_thanks']\n"
     ]
    }
   ],
   "source": [
    "# remove duplicates and sort it\n",
    "training_sentences = sorted(set(training_sentences_stem))\n",
    "labels = sorted(set(training_labels))\n",
    "print(training_sentences)\n",
    "print(labels)"
   ]
  },
  {
   "cell_type": "markdown",
   "id": "06521a67",
   "metadata": {},
   "source": [
    "### Create training and test data"
   ]
  },
  {
   "cell_type": "code",
   "execution_count": 11,
   "id": "838edc97",
   "metadata": {},
   "outputs": [
    {
     "name": "stdout",
     "output_type": "stream",
     "text": [
      "[0, 0, 0, 0, 0]\n"
     ]
    }
   ],
   "source": [
    "# create our training data\n",
    "training = []\n",
    "# create an empty array for our output\n",
    "output_empty = [0] * len(labels)\n",
    "print(output_empty)"
   ]
  },
  {
   "cell_type": "code",
   "execution_count": 12,
   "id": "826841b0",
   "metadata": {},
   "outputs": [
    {
     "name": "stdout",
     "output_type": "stream",
     "text": [
      "[0, 0, 0, 0, 0, 0, 0, 0, 0, 0, 0, 0, 0, 0, 1, 0, 0, 0, 0, 0, 0, 0, 0, 0, 0, 0, 0, 0, 0, 0, 0, 0, 0, 0, 0, 0, 0, 0, 0, 0, 0, 0, 0, 0, 0]\n",
      "[0, 0, 0, 0, 0, 0, 0, 0, 0, 0, 0, 0, 0, 1, 0, 0, 0, 0, 0, 0, 0, 0, 0, 0, 0, 0, 0, 0, 0, 0, 0, 0, 0, 0, 0, 0, 0, 0, 0, 0, 0, 0, 0, 0, 0]\n",
      "[0, 0, 0, 0, 0, 0, 0, 0, 0, 0, 0, 1, 0, 0, 0, 0, 0, 0, 0, 0, 0, 0, 0, 0, 0, 0, 0, 0, 0, 0, 0, 0, 0, 0, 0, 0, 0, 0, 0, 0, 0, 0, 0, 0, 0]\n",
      "[0, 0, 0, 0, 0, 0, 0, 0, 0, 0, 0, 0, 0, 1, 0, 0, 0, 0, 0, 0, 0, 0, 0, 0, 0, 0, 0, 0, 0, 0, 0, 0, 0, 0, 0, 0, 1, 0, 0, 0, 0, 0, 0, 0, 0]\n",
      "[0, 0, 0, 0, 0, 0, 0, 0, 0, 0, 0, 1, 0, 0, 0, 0, 0, 0, 0, 0, 0, 0, 0, 0, 0, 0, 0, 0, 0, 0, 1, 0, 1, 0, 0, 0, 0, 0, 0, 0, 0, 0, 0, 0, 0]\n",
      "[0, 0, 0, 0, 0, 0, 0, 0, 1, 0, 0, 0, 0, 0, 0, 0, 1, 0, 0, 0, 0, 0, 0, 0, 0, 0, 0, 0, 0, 0, 0, 0, 0, 0, 0, 0, 0, 0, 0, 1, 0, 0, 0, 0, 0]\n",
      "[0, 0, 0, 1, 0, 0, 0, 0, 1, 0, 0, 0, 0, 0, 0, 0, 1, 0, 0, 0, 0, 0, 0, 0, 0, 0, 1, 0, 0, 0, 0, 0, 0, 0, 0, 0, 0, 1, 0, 1, 0, 0, 0, 0, 0]\n",
      "[0, 0, 0, 0, 1, 0, 0, 0, 1, 1, 0, 0, 0, 0, 0, 0, 0, 0, 0, 0, 0, 0, 1, 0, 0, 0, 1, 0, 1, 0, 0, 0, 0, 1, 0, 0, 0, 0, 0, 0, 0, 0, 0, 0, 1]\n",
      "[0, 0, 0, 0, 0, 0, 0, 0, 0, 0, 0, 0, 0, 0, 0, 0, 0, 0, 0, 0, 0, 0, 1, 0, 0, 0, 1, 0, 1, 0, 0, 0, 0, 1, 0, 0, 0, 0, 0, 0, 0, 0, 0, 0, 0]\n",
      "[0, 1, 0, 0, 0, 1, 0, 0, 1, 1, 0, 0, 0, 0, 0, 0, 1, 0, 0, 0, 0, 0, 0, 0, 0, 0, 1, 1, 0, 0, 0, 0, 0, 0, 0, 0, 0, 1, 0, 1, 0, 0, 0, 0, 0]\n",
      "[0, 1, 0, 0, 0, 0, 0, 0, 0, 0, 0, 0, 0, 0, 0, 0, 1, 0, 0, 0, 0, 0, 0, 0, 0, 0, 1, 1, 0, 0, 0, 0, 0, 0, 0, 0, 0, 1, 0, 1, 0, 0, 0, 0, 0]\n",
      "[0, 0, 0, 0, 0, 0, 0, 0, 1, 0, 0, 0, 1, 0, 0, 0, 0, 0, 0, 0, 1, 0, 0, 0, 0, 0, 1, 0, 1, 0, 0, 0, 0, 0, 0, 0, 0, 1, 0, 0, 0, 0, 0, 1, 1]\n",
      "[0, 0, 0, 0, 1, 0, 0, 0, 1, 1, 0, 0, 0, 0, 0, 0, 0, 0, 0, 0, 1, 0, 0, 0, 0, 0, 1, 0, 1, 0, 0, 0, 0, 0, 0, 0, 0, 0, 0, 0, 0, 0, 0, 0, 1]\n",
      "[0, 0, 1, 0, 0, 0, 0, 0, 0, 0, 0, 0, 0, 0, 0, 1, 0, 0, 0, 0, 0, 0, 0, 0, 0, 1, 0, 0, 0, 0, 0, 0, 0, 0, 0, 1, 0, 0, 0, 0, 0, 1, 0, 0, 0]\n",
      "[0, 0, 0, 0, 0, 0, 1, 0, 0, 0, 0, 0, 0, 0, 0, 0, 0, 1, 0, 0, 0, 0, 0, 0, 0, 0, 0, 0, 0, 0, 1, 0, 0, 0, 0, 1, 0, 0, 0, 0, 0, 0, 1, 0, 0]\n",
      "[0, 0, 0, 0, 0, 0, 0, 1, 0, 0, 1, 0, 0, 0, 0, 1, 0, 0, 0, 0, 1, 0, 0, 1, 0, 1, 0, 0, 1, 0, 1, 0, 0, 0, 0, 1, 0, 0, 0, 0, 0, 0, 0, 0, 1]\n",
      "[0, 0, 0, 0, 0, 0, 0, 0, 0, 0, 0, 0, 0, 0, 0, 0, 0, 1, 0, 0, 0, 0, 0, 0, 0, 1, 0, 0, 0, 0, 1, 0, 0, 0, 0, 1, 0, 0, 0, 0, 0, 0, 1, 0, 0]\n",
      "[1, 0, 0, 0, 0, 0, 0, 0, 0, 0, 0, 0, 0, 0, 0, 0, 1, 0, 0, 1, 0, 0, 0, 0, 0, 0, 0, 0, 0, 1, 0, 0, 0, 0, 0, 0, 0, 1, 0, 1, 0, 0, 0, 0, 0]\n",
      "[1, 0, 0, 0, 1, 0, 0, 0, 0, 0, 0, 0, 1, 0, 0, 0, 0, 0, 0, 1, 1, 0, 0, 0, 0, 0, 0, 0, 1, 1, 0, 0, 0, 0, 0, 0, 0, 1, 0, 0, 0, 0, 0, 0, 1]\n",
      "[1, 0, 0, 0, 0, 0, 0, 0, 0, 0, 0, 0, 1, 0, 0, 0, 0, 0, 0, 1, 1, 0, 0, 0, 0, 0, 0, 0, 0, 1, 0, 0, 0, 0, 0, 0, 0, 1, 0, 0, 0, 0, 0, 1, 1]\n",
      "[0, 0, 0, 0, 0, 0, 0, 0, 0, 0, 0, 0, 0, 0, 0, 0, 0, 0, 0, 0, 0, 0, 0, 0, 1, 0, 0, 0, 0, 0, 0, 0, 0, 0, 1, 0, 0, 0, 1, 0, 0, 0, 0, 0, 1]\n",
      "[0, 0, 0, 0, 0, 0, 0, 0, 0, 0, 0, 0, 0, 0, 0, 0, 0, 0, 0, 0, 0, 0, 0, 0, 0, 0, 0, 0, 0, 0, 0, 0, 0, 0, 1, 0, 0, 0, 0, 0, 1, 0, 0, 0, 1]\n",
      "[0, 0, 0, 0, 0, 0, 0, 0, 0, 0, 0, 0, 0, 0, 0, 0, 0, 0, 0, 0, 0, 0, 0, 0, 1, 0, 0, 0, 0, 0, 0, 0, 0, 0, 1, 0, 0, 0, 0, 0, 0, 0, 0, 0, 1]\n",
      "[0, 0, 0, 0, 0, 0, 0, 0, 0, 0, 0, 0, 0, 0, 0, 0, 0, 0, 0, 0, 0, 1, 0, 0, 0, 0, 0, 0, 0, 0, 0, 1, 0, 0, 1, 0, 0, 0, 0, 0, 0, 0, 0, 0, 1]\n",
      "[1, 0, 0, 0, 0, 0, 0, 0, 0, 0, 0, 0, 0, 0, 0, 0, 0, 0, 1, 0, 0, 0, 0, 0, 0, 0, 0, 0, 0, 0, 0, 0, 0, 0, 1, 0, 0, 0, 0, 0, 0, 0, 0, 0, 0]\n",
      "[0, 0, 0, 0, 0, 0, 0, 0, 0, 0, 0, 0, 0, 0, 0, 0, 0, 0, 0, 0, 0, 0, 0, 0, 0, 0, 0, 0, 0, 0, 0, 0, 0, 0, 1, 0, 0, 0, 0, 0, 0, 0, 0, 0, 1]\n",
      "Training data created\n"
     ]
    },
    {
     "name": "stderr",
     "output_type": "stream",
     "text": [
      "<ipython-input-12-a132b71adee8>:7: VisibleDeprecationWarning: Creating an ndarray from ragged nested sequences (which is a list-or-tuple of lists-or-tuples-or ndarrays with different lengths or shapes) is deprecated. If you meant to do this, you must specify 'dtype=object' when creating the ndarray\n",
      "  training = np.array(training)\n"
     ]
    }
   ],
   "source": [
    "for doc in documents:\n",
    "    pattern_sentence = doc[0]\n",
    "    bag = bag_of_words(pattern_sentence, training_sentences, doc)\n",
    "\n",
    "# shuffle our features and turn into np.array\n",
    "random.shuffle(training)\n",
    "training = np.array(training)\n",
    "# create train and test lists. X - patterns, Y - intents\n",
    "X_train = list(training[:,0])\n",
    "y_train = list(training[:,1])\n",
    "print(\"Training data created\")"
   ]
  },
  {
   "cell_type": "markdown",
   "id": "9fc6e663",
   "metadata": {},
   "source": [
    "### Build the model"
   ]
  },
  {
   "cell_type": "code",
   "execution_count": 13,
   "id": "a0c653e1",
   "metadata": {},
   "outputs": [
    {
     "name": "stdout",
     "output_type": "stream",
     "text": [
      "Epoch 1/200\n",
      "6/6 [==============================] - 0s 1ms/step - loss: 1.6170 - accuracy: 0.2308\n",
      "Epoch 2/200\n",
      "6/6 [==============================] - 0s 1ms/step - loss: 1.6261 - accuracy: 0.2308\n",
      "Epoch 3/200\n",
      "6/6 [==============================] - 0s 600us/step - loss: 1.6094 - accuracy: 0.1923\n",
      "Epoch 4/200\n",
      "6/6 [==============================] - 0s 600us/step - loss: 1.4344 - accuracy: 0.3462\n",
      "Epoch 5/200\n",
      "6/6 [==============================] - 0s 1ms/step - loss: 1.4119 - accuracy: 0.4231\n",
      "Epoch 6/200\n",
      "6/6 [==============================] - 0s 800us/step - loss: 1.4652 - accuracy: 0.3462\n",
      "Epoch 7/200\n",
      "6/6 [==============================] - 0s 800us/step - loss: 1.3269 - accuracy: 0.5385\n",
      "Epoch 8/200\n",
      "6/6 [==============================] - 0s 800us/step - loss: 1.3121 - accuracy: 0.3846\n",
      "Epoch 9/200\n",
      "6/6 [==============================] - 0s 600us/step - loss: 1.2461 - accuracy: 0.6154\n",
      "Epoch 10/200\n",
      "6/6 [==============================] - 0s 1ms/step - loss: 1.1801 - accuracy: 0.5769\n",
      "Epoch 11/200\n",
      "6/6 [==============================] - 0s 600us/step - loss: 1.0995 - accuracy: 0.7308\n",
      "Epoch 12/200\n",
      "6/6 [==============================] - 0s 801us/step - loss: 1.1267 - accuracy: 0.6154\n",
      "Epoch 13/200\n",
      "6/6 [==============================] - 0s 800us/step - loss: 1.1050 - accuracy: 0.6538\n",
      "Epoch 14/200\n",
      "6/6 [==============================] - 0s 600us/step - loss: 1.0850 - accuracy: 0.6538\n",
      "Epoch 15/200\n",
      "6/6 [==============================] - 0s 1ms/step - loss: 1.0317 - accuracy: 0.7308\n",
      "Epoch 16/200\n",
      "6/6 [==============================] - 0s 1ms/step - loss: 0.9269 - accuracy: 0.7692\n",
      "Epoch 17/200\n",
      "6/6 [==============================] - 0s 600us/step - loss: 0.9884 - accuracy: 0.6923\n",
      "Epoch 18/200\n",
      "6/6 [==============================] - 0s 1ms/step - loss: 0.7862 - accuracy: 0.7692\n",
      "Epoch 19/200\n",
      "6/6 [==============================] - 0s 600us/step - loss: 0.8409 - accuracy: 0.8462\n",
      "Epoch 20/200\n",
      "6/6 [==============================] - 0s 801us/step - loss: 0.8131 - accuracy: 0.7692\n",
      "Epoch 21/200\n",
      "6/6 [==============================] - 0s 801us/step - loss: 0.7050 - accuracy: 0.9231\n",
      "Epoch 22/200\n",
      "6/6 [==============================] - 0s 800us/step - loss: 0.6718 - accuracy: 0.8846\n",
      "Epoch 23/200\n",
      "6/6 [==============================] - 0s 800us/step - loss: 0.7478 - accuracy: 0.7692\n",
      "Epoch 24/200\n",
      "6/6 [==============================] - 0s 600us/step - loss: 0.6593 - accuracy: 0.8462\n",
      "Epoch 25/200\n",
      "6/6 [==============================] - 0s 600us/step - loss: 0.6983 - accuracy: 0.8846\n",
      "Epoch 26/200\n",
      "6/6 [==============================] - 0s 1ms/step - loss: 0.5902 - accuracy: 0.9615\n",
      "Epoch 27/200\n",
      "6/6 [==============================] - 0s 800us/step - loss: 0.5574 - accuracy: 0.9231\n",
      "Epoch 28/200\n",
      "6/6 [==============================] - 0s 600us/step - loss: 0.5069 - accuracy: 0.9231\n",
      "Epoch 29/200\n",
      "6/6 [==============================] - 0s 800us/step - loss: 0.5666 - accuracy: 0.8846\n",
      "Epoch 30/200\n",
      "6/6 [==============================] - 0s 800us/step - loss: 0.4048 - accuracy: 0.9231\n",
      "Epoch 31/200\n",
      "6/6 [==============================] - 0s 1ms/step - loss: 0.5827 - accuracy: 0.8462\n",
      "Epoch 32/200\n",
      "6/6 [==============================] - 0s 800us/step - loss: 0.4436 - accuracy: 0.9615\n",
      "Epoch 33/200\n",
      "6/6 [==============================] - 0s 800us/step - loss: 0.3836 - accuracy: 1.0000\n",
      "Epoch 34/200\n",
      "6/6 [==============================] - 0s 1ms/step - loss: 0.3373 - accuracy: 1.0000\n",
      "Epoch 35/200\n",
      "6/6 [==============================] - 0s 800us/step - loss: 0.4453 - accuracy: 0.8077\n",
      "Epoch 36/200\n",
      "6/6 [==============================] - 0s 1ms/step - loss: 0.3152 - accuracy: 1.0000\n",
      "Epoch 37/200\n",
      "6/6 [==============================] - 0s 800us/step - loss: 0.3656 - accuracy: 1.0000\n",
      "Epoch 38/200\n",
      "6/6 [==============================] - 0s 1ms/step - loss: 0.3334 - accuracy: 1.0000\n",
      "Epoch 39/200\n",
      "6/6 [==============================] - 0s 1ms/step - loss: 0.2996 - accuracy: 0.9615\n",
      "Epoch 40/200\n",
      "6/6 [==============================] - 0s 800us/step - loss: 0.2751 - accuracy: 1.0000\n",
      "Epoch 41/200\n",
      "6/6 [==============================] - 0s 1ms/step - loss: 0.2954 - accuracy: 0.9615\n",
      "Epoch 42/200\n",
      "6/6 [==============================] - 0s 800us/step - loss: 0.2231 - accuracy: 1.0000\n",
      "Epoch 43/200\n",
      "6/6 [==============================] - 0s 800us/step - loss: 0.2273 - accuracy: 1.0000\n",
      "Epoch 44/200\n",
      "6/6 [==============================] - 0s 800us/step - loss: 0.2820 - accuracy: 0.9615\n",
      "Epoch 45/200\n",
      "6/6 [==============================] - 0s 600us/step - loss: 0.1981 - accuracy: 1.0000\n",
      "Epoch 46/200\n",
      "6/6 [==============================] - 0s 1ms/step - loss: 0.1668 - accuracy: 1.0000\n",
      "Epoch 47/200\n",
      "6/6 [==============================] - 0s 600us/step - loss: 0.1827 - accuracy: 1.0000\n",
      "Epoch 48/200\n",
      "6/6 [==============================] - 0s 1ms/step - loss: 0.1942 - accuracy: 0.9615\n",
      "Epoch 49/200\n",
      "6/6 [==============================] - 0s 800us/step - loss: 0.1292 - accuracy: 1.0000\n",
      "Epoch 50/200\n",
      "6/6 [==============================] - 0s 600us/step - loss: 0.1854 - accuracy: 0.9615\n",
      "Epoch 51/200\n",
      "6/6 [==============================] - 0s 1ms/step - loss: 0.2262 - accuracy: 1.0000\n",
      "Epoch 52/200\n",
      "6/6 [==============================] - 0s 800us/step - loss: 0.0982 - accuracy: 1.0000\n",
      "Epoch 53/200\n",
      "6/6 [==============================] - 0s 800us/step - loss: 0.1217 - accuracy: 1.0000\n",
      "Epoch 54/200\n",
      "6/6 [==============================] - 0s 800us/step - loss: 0.1399 - accuracy: 1.0000\n",
      "Epoch 55/200\n",
      "6/6 [==============================] - 0s 800us/step - loss: 0.1092 - accuracy: 1.0000\n",
      "Epoch 56/200\n",
      "6/6 [==============================] - 0s 600us/step - loss: 0.1264 - accuracy: 1.0000\n",
      "Epoch 57/200\n",
      "6/6 [==============================] - 0s 1ms/step - loss: 0.1408 - accuracy: 0.9615\n",
      "Epoch 58/200\n",
      "6/6 [==============================] - 0s 600us/step - loss: 0.1218 - accuracy: 1.0000\n",
      "Epoch 59/200\n",
      "6/6 [==============================] - 0s 800us/step - loss: 0.1677 - accuracy: 1.0000\n",
      "Epoch 60/200\n",
      "6/6 [==============================] - 0s 600us/step - loss: 0.0841 - accuracy: 1.0000\n",
      "Epoch 61/200\n",
      "6/6 [==============================] - 0s 800us/step - loss: 0.1245 - accuracy: 0.9615\n",
      "Epoch 62/200\n",
      "6/6 [==============================] - 0s 800us/step - loss: 0.0819 - accuracy: 1.0000\n",
      "Epoch 63/200\n",
      "6/6 [==============================] - 0s 800us/step - loss: 0.0483 - accuracy: 1.0000\n",
      "Epoch 64/200\n",
      "6/6 [==============================] - 0s 600us/step - loss: 0.1100 - accuracy: 1.0000\n",
      "Epoch 65/200\n",
      "6/6 [==============================] - 0s 800us/step - loss: 0.1497 - accuracy: 0.9231\n",
      "Epoch 66/200\n",
      "6/6 [==============================] - 0s 600us/step - loss: 0.0849 - accuracy: 0.9615\n",
      "Epoch 67/200\n",
      "6/6 [==============================] - 0s 801us/step - loss: 0.0714 - accuracy: 1.0000\n",
      "Epoch 68/200\n",
      "6/6 [==============================] - 0s 800us/step - loss: 0.0431 - accuracy: 1.0000\n",
      "Epoch 69/200\n",
      "6/6 [==============================] - 0s 800us/step - loss: 0.0498 - accuracy: 1.0000\n",
      "Epoch 70/200\n",
      "6/6 [==============================] - 0s 600us/step - loss: 0.0807 - accuracy: 1.0000\n",
      "Epoch 71/200\n",
      "6/6 [==============================] - 0s 800us/step - loss: 0.0424 - accuracy: 1.0000\n",
      "Epoch 72/200\n",
      "6/6 [==============================] - 0s 800us/step - loss: 0.0851 - accuracy: 0.9615\n",
      "Epoch 73/200\n",
      "6/6 [==============================] - 0s 800us/step - loss: 0.0333 - accuracy: 1.0000\n",
      "Epoch 74/200\n",
      "6/6 [==============================] - 0s 1ms/step - loss: 0.0524 - accuracy: 1.0000\n",
      "Epoch 75/200\n",
      "6/6 [==============================] - 0s 800us/step - loss: 0.0844 - accuracy: 0.9615\n",
      "Epoch 76/200\n",
      "6/6 [==============================] - 0s 1ms/step - loss: 0.0244 - accuracy: 1.0000\n",
      "Epoch 77/200\n",
      "6/6 [==============================] - 0s 800us/step - loss: 0.0385 - accuracy: 1.0000\n",
      "Epoch 78/200\n",
      "6/6 [==============================] - 0s 800us/step - loss: 0.0116 - accuracy: 1.0000\n",
      "Epoch 79/200\n",
      "6/6 [==============================] - 0s 1ms/step - loss: 0.0641 - accuracy: 1.0000\n",
      "Epoch 80/200\n",
      "6/6 [==============================] - 0s 600us/step - loss: 0.0199 - accuracy: 1.0000\n",
      "Epoch 81/200\n",
      "6/6 [==============================] - 0s 800us/step - loss: 0.0381 - accuracy: 1.0000\n",
      "Epoch 82/200\n",
      "6/6 [==============================] - 0s 800us/step - loss: 0.0518 - accuracy: 0.9615\n",
      "Epoch 83/200\n"
     ]
    },
    {
     "name": "stdout",
     "output_type": "stream",
     "text": [
      "6/6 [==============================] - 0s 600us/step - loss: 0.0571 - accuracy: 0.9615\n",
      "Epoch 84/200\n",
      "6/6 [==============================] - 0s 800us/step - loss: 0.0176 - accuracy: 1.0000\n",
      "Epoch 85/200\n",
      "6/6 [==============================] - 0s 801us/step - loss: 0.0231 - accuracy: 1.0000\n",
      "Epoch 86/200\n",
      "6/6 [==============================] - 0s 800us/step - loss: 0.0171 - accuracy: 1.0000\n",
      "Epoch 87/200\n",
      "6/6 [==============================] - 0s 801us/step - loss: 0.0244 - accuracy: 1.0000\n",
      "Epoch 88/200\n",
      "6/6 [==============================] - 0s 600us/step - loss: 0.0376 - accuracy: 1.0000\n",
      "Epoch 89/200\n",
      "6/6 [==============================] - 0s 800us/step - loss: 0.0035 - accuracy: 1.0000\n",
      "Epoch 90/200\n",
      "6/6 [==============================] - 0s 1ms/step - loss: 0.0114 - accuracy: 1.0000\n",
      "Epoch 91/200\n",
      "6/6 [==============================] - 0s 600us/step - loss: 0.0153 - accuracy: 1.0000\n",
      "Epoch 92/200\n",
      "6/6 [==============================] - 0s 800us/step - loss: 0.0244 - accuracy: 1.0000\n",
      "Epoch 93/200\n",
      "6/6 [==============================] - 0s 800us/step - loss: 0.0093 - accuracy: 1.0000\n",
      "Epoch 94/200\n",
      "6/6 [==============================] - 0s 600us/step - loss: 0.0092 - accuracy: 1.0000\n",
      "Epoch 95/200\n",
      "6/6 [==============================] - 0s 800us/step - loss: 0.0155 - accuracy: 1.0000\n",
      "Epoch 96/200\n",
      "6/6 [==============================] - 0s 800us/step - loss: 0.1023 - accuracy: 0.9615\n",
      "Epoch 97/200\n",
      "6/6 [==============================] - 0s 600us/step - loss: 0.0125 - accuracy: 1.0000\n",
      "Epoch 98/200\n",
      "6/6 [==============================] - 0s 800us/step - loss: 0.1125 - accuracy: 0.9615\n",
      "Epoch 99/200\n",
      "6/6 [==============================] - 0s 800us/step - loss: 0.0574 - accuracy: 0.9615\n",
      "Epoch 100/200\n",
      "6/6 [==============================] - 0s 600us/step - loss: 0.0125 - accuracy: 1.0000\n",
      "Epoch 101/200\n",
      "6/6 [==============================] - 0s 1ms/step - loss: 0.0054 - accuracy: 1.0000\n",
      "Epoch 102/200\n",
      "6/6 [==============================] - 0s 600us/step - loss: 0.0207 - accuracy: 1.0000\n",
      "Epoch 103/200\n",
      "6/6 [==============================] - 0s 801us/step - loss: 0.0238 - accuracy: 1.0000\n",
      "Epoch 104/200\n",
      "6/6 [==============================] - 0s 800us/step - loss: 0.0121 - accuracy: 1.0000\n",
      "Epoch 105/200\n",
      "6/6 [==============================] - 0s 600us/step - loss: 0.0042 - accuracy: 1.0000\n",
      "Epoch 106/200\n",
      "6/6 [==============================] - 0s 600us/step - loss: 0.0077 - accuracy: 1.0000\n",
      "Epoch 107/200\n",
      "6/6 [==============================] - 0s 800us/step - loss: 0.0098 - accuracy: 1.0000\n",
      "Epoch 108/200\n",
      "6/6 [==============================] - 0s 600us/step - loss: 0.0023 - accuracy: 1.0000\n",
      "Epoch 109/200\n",
      "6/6 [==============================] - 0s 800us/step - loss: 0.0076 - accuracy: 1.0000\n",
      "Epoch 110/200\n",
      "6/6 [==============================] - 0s 600us/step - loss: 0.0019 - accuracy: 1.0000\n",
      "Epoch 111/200\n",
      "6/6 [==============================] - 0s 600us/step - loss: 0.0033 - accuracy: 1.0000\n",
      "Epoch 112/200\n",
      "6/6 [==============================] - 0s 800us/step - loss: 0.0046 - accuracy: 1.0000\n",
      "Epoch 113/200\n",
      "6/6 [==============================] - 0s 800us/step - loss: 0.0067 - accuracy: 1.0000\n",
      "Epoch 114/200\n",
      "6/6 [==============================] - 0s 600us/step - loss: 0.0224 - accuracy: 1.0000\n",
      "Epoch 115/200\n",
      "6/6 [==============================] - 0s 800us/step - loss: 0.0050 - accuracy: 1.0000\n",
      "Epoch 116/200\n",
      "6/6 [==============================] - 0s 800us/step - loss: 0.0135 - accuracy: 1.0000\n",
      "Epoch 117/200\n",
      "6/6 [==============================] - 0s 600us/step - loss: 0.0061 - accuracy: 1.0000\n",
      "Epoch 118/200\n",
      "6/6 [==============================] - 0s 1ms/step - loss: 0.0040 - accuracy: 1.0000\n",
      "Epoch 119/200\n",
      "6/6 [==============================] - 0s 600us/step - loss: 0.0216 - accuracy: 1.0000\n",
      "Epoch 120/200\n",
      "6/6 [==============================] - 0s 800us/step - loss: 0.0021 - accuracy: 1.0000\n",
      "Epoch 121/200\n",
      "6/6 [==============================] - 0s 800us/step - loss: 0.0032 - accuracy: 1.0000\n",
      "Epoch 122/200\n",
      "6/6 [==============================] - 0s 800us/step - loss: 0.0076 - accuracy: 1.0000\n",
      "Epoch 123/200\n",
      "6/6 [==============================] - 0s 800us/step - loss: 0.0117 - accuracy: 1.0000\n",
      "Epoch 124/200\n",
      "6/6 [==============================] - 0s 800us/step - loss: 0.0020 - accuracy: 1.0000\n",
      "Epoch 125/200\n",
      "6/6 [==============================] - 0s 800us/step - loss: 0.0025 - accuracy: 1.0000\n",
      "Epoch 126/200\n",
      "6/6 [==============================] - 0s 800us/step - loss: 6.6254e-04 - accuracy: 1.0000\n",
      "Epoch 127/200\n",
      "6/6 [==============================] - 0s 800us/step - loss: 0.0040 - accuracy: 1.0000\n",
      "Epoch 128/200\n",
      "6/6 [==============================] - 0s 800us/step - loss: 0.0470 - accuracy: 0.9615\n",
      "Epoch 129/200\n",
      "6/6 [==============================] - 0s 1ms/step - loss: 0.0225 - accuracy: 1.0000\n",
      "Epoch 130/200\n",
      "6/6 [==============================] - 0s 800us/step - loss: 0.0019 - accuracy: 1.0000\n",
      "Epoch 131/200\n",
      "6/6 [==============================] - 0s 600us/step - loss: 0.0048 - accuracy: 1.0000\n",
      "Epoch 132/200\n",
      "6/6 [==============================] - 0s 600us/step - loss: 0.0089 - accuracy: 1.0000\n",
      "Epoch 133/200\n",
      "6/6 [==============================] - 0s 600us/step - loss: 0.0047 - accuracy: 1.0000\n",
      "Epoch 134/200\n",
      "6/6 [==============================] - 0s 1ms/step - loss: 7.4205e-04 - accuracy: 1.0000\n",
      "Epoch 135/200\n",
      "6/6 [==============================] - 0s 800us/step - loss: 6.8356e-04 - accuracy: 1.0000\n",
      "Epoch 136/200\n",
      "6/6 [==============================] - 0s 600us/step - loss: 0.0014 - accuracy: 1.0000\n",
      "Epoch 137/200\n",
      "6/6 [==============================] - 0s 800us/step - loss: 0.0080 - accuracy: 1.0000\n",
      "Epoch 138/200\n",
      "6/6 [==============================] - 0s 800us/step - loss: 0.0017 - accuracy: 1.0000\n",
      "Epoch 139/200\n",
      "6/6 [==============================] - 0s 800us/step - loss: 0.0293 - accuracy: 1.0000\n",
      "Epoch 140/200\n",
      "6/6 [==============================] - 0s 800us/step - loss: 0.0035 - accuracy: 1.0000\n",
      "Epoch 141/200\n",
      "6/6 [==============================] - 0s 800us/step - loss: 1.3537e-04 - accuracy: 1.0000\n",
      "Epoch 142/200\n",
      "6/6 [==============================] - 0s 800us/step - loss: 0.0122 - accuracy: 1.0000\n",
      "Epoch 143/200\n",
      "6/6 [==============================] - 0s 600us/step - loss: 5.2165e-04 - accuracy: 1.0000\n",
      "Epoch 144/200\n",
      "6/6 [==============================] - 0s 800us/step - loss: 0.0016 - accuracy: 1.0000\n",
      "Epoch 145/200\n",
      "6/6 [==============================] - 0s 600us/step - loss: 8.0511e-04 - accuracy: 1.0000\n",
      "Epoch 146/200\n",
      "6/6 [==============================] - 0s 1ms/step - loss: 5.3305e-04 - accuracy: 1.0000\n",
      "Epoch 147/200\n",
      "6/6 [==============================] - 0s 800us/step - loss: 6.2636e-04 - accuracy: 1.0000\n",
      "Epoch 148/200\n",
      "6/6 [==============================] - 0s 600us/step - loss: 1.4304e-04 - accuracy: 1.0000\n",
      "Epoch 149/200\n",
      "6/6 [==============================] - 0s 800us/step - loss: 0.0020 - accuracy: 1.0000\n",
      "Epoch 150/200\n",
      "6/6 [==============================] - 0s 600us/step - loss: 9.9840e-04 - accuracy: 1.0000\n",
      "Epoch 151/200\n",
      "6/6 [==============================] - 0s 800us/step - loss: 0.0017 - accuracy: 1.0000\n",
      "Epoch 152/200\n",
      "6/6 [==============================] - 0s 800us/step - loss: 0.0106 - accuracy: 1.0000\n",
      "Epoch 153/200\n",
      "6/6 [==============================] - 0s 800us/step - loss: 0.0257 - accuracy: 1.0000\n",
      "Epoch 154/200\n",
      "6/6 [==============================] - 0s 800us/step - loss: 1.6980e-04 - accuracy: 1.0000\n",
      "Epoch 155/200\n",
      "6/6 [==============================] - 0s 600us/step - loss: 8.0951e-05 - accuracy: 1.0000\n",
      "Epoch 156/200\n",
      "6/6 [==============================] - 0s 800us/step - loss: 1.0533e-04 - accuracy: 1.0000\n",
      "Epoch 157/200\n",
      "6/6 [==============================] - 0s 800us/step - loss: 9.1066e-04 - accuracy: 1.0000\n",
      "Epoch 158/200\n",
      "6/6 [==============================] - 0s 800us/step - loss: 1.6089e-04 - accuracy: 1.0000\n",
      "Epoch 159/200\n",
      "6/6 [==============================] - 0s 800us/step - loss: 0.0014 - accuracy: 1.0000\n",
      "Epoch 160/200\n",
      "6/6 [==============================] - 0s 800us/step - loss: 2.3880e-04 - accuracy: 1.0000\n",
      "Epoch 161/200\n",
      "6/6 [==============================] - 0s 600us/step - loss: 0.0011 - accuracy: 1.0000\n",
      "Epoch 162/200\n",
      "6/6 [==============================] - 0s 600us/step - loss: 9.5092e-04 - accuracy: 1.0000\n",
      "Epoch 163/200\n"
     ]
    },
    {
     "name": "stdout",
     "output_type": "stream",
     "text": [
      "6/6 [==============================] - 0s 800us/step - loss: 0.0018 - accuracy: 1.0000\n",
      "Epoch 164/200\n",
      "6/6 [==============================] - 0s 600us/step - loss: 3.2469e-05 - accuracy: 1.0000\n",
      "Epoch 165/200\n",
      "6/6 [==============================] - 0s 800us/step - loss: 8.7188e-05 - accuracy: 1.0000\n",
      "Epoch 166/200\n",
      "6/6 [==============================] - 0s 800us/step - loss: 0.0013 - accuracy: 1.0000\n",
      "Epoch 167/200\n",
      "6/6 [==============================] - 0s 600us/step - loss: 0.0016 - accuracy: 1.0000\n",
      "Epoch 168/200\n",
      "6/6 [==============================] - 0s 800us/step - loss: 1.3130e-04 - accuracy: 1.0000\n",
      "Epoch 169/200\n",
      "6/6 [==============================] - 0s 1ms/step - loss: 5.2279e-04 - accuracy: 1.0000\n",
      "Epoch 170/200\n",
      "6/6 [==============================] - 0s 600us/step - loss: 1.5435e-04 - accuracy: 1.0000\n",
      "Epoch 171/200\n",
      "6/6 [==============================] - 0s 800us/step - loss: 0.0079 - accuracy: 1.0000\n",
      "Epoch 172/200\n",
      "6/6 [==============================] - 0s 600us/step - loss: 0.0014 - accuracy: 1.0000\n",
      "Epoch 173/200\n",
      "6/6 [==============================] - 0s 800us/step - loss: 5.0350e-04 - accuracy: 1.0000\n",
      "Epoch 174/200\n",
      "6/6 [==============================] - 0s 1ms/step - loss: 0.0012 - accuracy: 1.0000\n",
      "Epoch 175/200\n",
      "6/6 [==============================] - 0s 800us/step - loss: 2.8354e-04 - accuracy: 1.0000\n",
      "Epoch 176/200\n",
      "6/6 [==============================] - 0s 800us/step - loss: 1.3809e-04 - accuracy: 1.0000\n",
      "Epoch 177/200\n",
      "6/6 [==============================] - 0s 600us/step - loss: 2.5094e-04 - accuracy: 1.0000\n",
      "Epoch 178/200\n",
      "6/6 [==============================] - 0s 800us/step - loss: 0.0019 - accuracy: 1.0000\n",
      "Epoch 179/200\n",
      "6/6 [==============================] - 0s 600us/step - loss: 1.3269e-04 - accuracy: 1.0000\n",
      "Epoch 180/200\n",
      "6/6 [==============================] - 0s 1ms/step - loss: 0.0033 - accuracy: 1.0000\n",
      "Epoch 181/200\n",
      "6/6 [==============================] - 0s 600us/step - loss: 5.9112e-04 - accuracy: 1.0000\n",
      "Epoch 182/200\n",
      "6/6 [==============================] - 0s 800us/step - loss: 0.0055 - accuracy: 1.0000\n",
      "Epoch 183/200\n",
      "6/6 [==============================] - 0s 800us/step - loss: 0.0013 - accuracy: 1.0000\n",
      "Epoch 184/200\n",
      "6/6 [==============================] - 0s 800us/step - loss: 5.8984e-04 - accuracy: 1.0000\n",
      "Epoch 185/200\n",
      "6/6 [==============================] - 0s 1ms/step - loss: 5.4077e-05 - accuracy: 1.0000\n",
      "Epoch 186/200\n",
      "6/6 [==============================] - 0s 600us/step - loss: 3.3768e-04 - accuracy: 1.0000\n",
      "Epoch 187/200\n",
      "6/6 [==============================] - 0s 800us/step - loss: 5.6305e-04 - accuracy: 1.0000\n",
      "Epoch 188/200\n",
      "6/6 [==============================] - 0s 800us/step - loss: 5.0203e-06 - accuracy: 1.0000\n",
      "Epoch 189/200\n",
      "6/6 [==============================] - 0s 600us/step - loss: 0.0016 - accuracy: 1.0000\n",
      "Epoch 190/200\n",
      "6/6 [==============================] - 0s 1ms/step - loss: 1.1328e-04 - accuracy: 1.0000\n",
      "Epoch 191/200\n",
      "6/6 [==============================] - 0s 800us/step - loss: 2.9159e-05 - accuracy: 1.0000\n",
      "Epoch 192/200\n",
      "6/6 [==============================] - 0s 800us/step - loss: 3.4644e-05 - accuracy: 1.0000\n",
      "Epoch 193/200\n",
      "6/6 [==============================] - 0s 800us/step - loss: 3.9733e-04 - accuracy: 1.0000\n",
      "Epoch 194/200\n",
      "6/6 [==============================] - 0s 600us/step - loss: 6.7146e-05 - accuracy: 1.0000\n",
      "Epoch 195/200\n",
      "6/6 [==============================] - 0s 800us/step - loss: 2.8767e-04 - accuracy: 1.0000\n",
      "Epoch 196/200\n",
      "6/6 [==============================] - 0s 1ms/step - loss: 8.9286e-05 - accuracy: 1.0000\n",
      "Epoch 197/200\n",
      "6/6 [==============================] - 0s 800us/step - loss: 4.0482e-05 - accuracy: 1.0000\n",
      "Epoch 198/200\n",
      "6/6 [==============================] - 0s 800us/step - loss: 0.0037 - accuracy: 1.0000\n",
      "Epoch 199/200\n",
      "6/6 [==============================] - 0s 800us/step - loss: 9.2044e-05 - accuracy: 1.0000\n",
      "Epoch 200/200\n",
      "6/6 [==============================] - 0s 600us/step - loss: 1.1065e-04 - accuracy: 1.0000\n",
      "Model: \"sequential\"\n",
      "_________________________________________________________________\n",
      "Layer (type)                 Output Shape              Param #   \n",
      "=================================================================\n",
      "dense (Dense)                (None, 128)               5888      \n",
      "_________________________________________________________________\n",
      "dropout (Dropout)            (None, 128)               0         \n",
      "_________________________________________________________________\n",
      "dense_1 (Dense)              (None, 64)                8256      \n",
      "_________________________________________________________________\n",
      "dropout_1 (Dropout)          (None, 64)                0         \n",
      "_________________________________________________________________\n",
      "dense_2 (Dense)              (None, 5)                 325       \n",
      "=================================================================\n",
      "Total params: 14,469\n",
      "Trainable params: 14,469\n",
      "Non-trainable params: 0\n",
      "_________________________________________________________________\n",
      "None\n"
     ]
    }
   ],
   "source": [
    "# Create model - 3 layers. First layer 128 neurons, second layer 64 neurons and 3rd output layer contains number of neurons\n",
    "# equal to number of intents to predict output intent with softmax\n",
    "\n",
    "model = Sequential()\n",
    "model.add(Dense(128, input_shape=(len(X_train[0]),), activation='relu'))\n",
    "model.add(Dropout(0.5))\n",
    "model.add(Dense(64, activation='relu'))\n",
    "model.add(Dropout(0.5))\n",
    "model.add(Dense(len(y_train[0]), activation='softmax'))\n",
    "# Compile model. Stochastic gradient descent with Nesterov accelerated gradient gives good results for this model\n",
    "#sgd = SGD(lr=0.01, decay=1e-6, momentum=0.9, nesterov=True)\n",
    "model.compile(loss='categorical_crossentropy',  metrics=['accuracy'])\n",
    "#fitting and saving the model \n",
    "hist = model.fit(np.array(X_train), np.array(y_train), epochs=200, batch_size=5, verbose=1)\n",
    "# model.save('chatbot_model.h5', hist)\n",
    "\n",
    "print(model.summary())"
   ]
  },
  {
   "cell_type": "code",
   "execution_count": null,
   "id": "85093ec4",
   "metadata": {},
   "outputs": [],
   "source": []
  },
  {
   "cell_type": "markdown",
   "id": "e10b86dd",
   "metadata": {},
   "source": [
    "### Predict the response"
   ]
  },
  {
   "cell_type": "code",
   "execution_count": 14,
   "id": "bf6f2fda",
   "metadata": {},
   "outputs": [],
   "source": [
    "def clean_up_sentence(sentence):\n",
    "    \n",
    "    sentence_words_stem = []\n",
    "    # tokenize the pattern\n",
    "    sentence_words = tokenize(sentence)\n",
    "    print(sentence_words)\n",
    "    # stem each word\n",
    "    \n",
    "    for word in sentence_words:\n",
    "        words = stem(word)\n",
    "        sentence_words_stem.append(words)\n",
    "\n",
    "    return sentence_words_stem"
   ]
  },
  {
   "cell_type": "code",
   "execution_count": 15,
   "id": "bb2b0e0f",
   "metadata": {},
   "outputs": [],
   "source": [
    "# return bag of words array: 0 or 1 for each word in the bag that exists in the sentence\n",
    "\n",
    "def bow(sentence, words, show_details=False):\n",
    "    # tokenize the pattern\n",
    "    sentence_words = clean_up_sentence(sentence)\n",
    "    # bag of words\n",
    "    bag = [0]*len(words)  \n",
    "    for s in sentence_words:\n",
    "        for i,w in enumerate(words):\n",
    "            if w == s: \n",
    "                bag[i] = 1\n",
    "                if show_details:\n",
    "                    print (\"found in bag: %s\" % w)\n",
    "\n",
    "    return(np.array(bag))"
   ]
  },
  {
   "cell_type": "code",
   "execution_count": 16,
   "id": "1e4be262",
   "metadata": {},
   "outputs": [
    {
     "name": "stdout",
     "output_type": "stream",
     "text": [
      "['Can', 'you', 'please', 'take', 'my', 'order', 'for', 'food', '?']\n",
      "[0 0 0 0 1 0 0 0 1 1 0 0 0 0 0 0 0 0 0 0 0 0 1 0 0 0 1 0 1 0 0 0 0 1 0 0 0\n",
      " 0 0 0 0 0 0 0 1]\n",
      "['greeting', 'opening_hours', 'order', 'reservation', 'user_thanks']\n"
     ]
    }
   ],
   "source": [
    "p = bow(\"Can you please take my order for food?\", training_sentences)\n",
    "print(p)\n",
    "print(labels)"
   ]
  },
  {
   "cell_type": "code",
   "execution_count": 17,
   "id": "b26d14be",
   "metadata": {},
   "outputs": [],
   "source": [
    "def predict_class(sentence, model):\n",
    "    # filter out predictions below a threshold\n",
    "    p = bow(sentence, training_sentences,show_details=False)\n",
    "    res = model.predict(np.array([p]))[0]\n",
    "    ERROR_THRESHOLD = 0.25\n",
    "    results = [[i,r] for i,r in enumerate(res) if r>ERROR_THRESHOLD]\n",
    "    # sort by strength of probability\n",
    "    results.sort(key=lambda x: x[1], reverse=True)\n",
    "    return_list = []\n",
    "    for r in results:\n",
    "        return_list.append({\"intent\": labels[r[0]], \"probability\": str(r[1])})\n",
    "    return return_list"
   ]
  },
  {
   "cell_type": "code",
   "execution_count": 18,
   "id": "b36e6d97",
   "metadata": {},
   "outputs": [],
   "source": [
    "def getResponse(ints, intents_json):\n",
    "    tag = ints[0]['intent']\n",
    "    list_of_intents = intents_json['intents']\n",
    "    for i in list_of_intents:\n",
    "        if(i['tag']== tag):\n",
    "            result = random.choice(i['responses'])\n",
    "            break\n",
    "    return result"
   ]
  },
  {
   "cell_type": "code",
   "execution_count": 19,
   "id": "87b53ae0",
   "metadata": {},
   "outputs": [],
   "source": [
    "def chatbot_response(text):\n",
    "    ints = predict_class(text, model)\n",
    "    res = getResponse(ints, intents)\n",
    "    return res"
   ]
  },
  {
   "cell_type": "code",
   "execution_count": 28,
   "id": "283f5ab2",
   "metadata": {},
   "outputs": [
    {
     "name": "stdout",
     "output_type": "stream",
     "text": [
      "['I', 'would', 'like', 'to', 'have', 'food']\n",
      "[{'intent': 'order', 'probability': '0.9999988'}]\n"
     ]
    }
   ],
   "source": [
    "ints = predict_class('I would like to have food', model)\n",
    "print(ints)"
   ]
  },
  {
   "cell_type": "code",
   "execution_count": 29,
   "id": "55db513c",
   "metadata": {},
   "outputs": [],
   "source": [
    "#ints = predict_class('ok waiting thank you', model)\n",
    "#ints = return_list[0]['intent']\n",
    "#print(ints)"
   ]
  },
  {
   "cell_type": "code",
   "execution_count": 30,
   "id": "d0e0c390",
   "metadata": {},
   "outputs": [
    {
     "data": {
      "text/plain": [
       "\"Certainly, I'll try to help you with that. What are you feeling like eating today?\""
      ]
     },
     "execution_count": 30,
     "metadata": {},
     "output_type": "execute_result"
    }
   ],
   "source": [
    "getResponse(ints , intents )"
   ]
  },
  {
   "cell_type": "code",
   "execution_count": 23,
   "id": "a18aa0fe",
   "metadata": {},
   "outputs": [
    {
     "name": "stdout",
     "output_type": "stream",
     "text": [
      "['hi']\n",
      "['can', 'i', 'place', 'an', 'order', '?']\n",
      "['hello']\n",
      "['hey', 'there']\n",
      "['hello', 'taiwan']\n",
      "['i', 'want', 'food']\n",
      "['thank', 'you']\n"
     ]
    }
   ],
   "source": [
    "#Creating GUI with tkinter\n",
    "import tkinter\n",
    "from tkinter import *\n",
    "def send():\n",
    "    msg = EntryBox.get(\"1.0\",'end-1c').strip()\n",
    "    EntryBox.delete(\"0.0\",END)\n",
    "    if msg != '':\n",
    "        ChatLog.config(state=NORMAL)\n",
    "        ChatLog.insert(END, \"You: \" + msg + '\\n\\n')\n",
    "        ChatLog.config(foreground=\"#442265\", font=(\"Verdana\", 12 ))\n",
    "        res = chatbot_response(msg)\n",
    "        ChatLog.insert(END, \"Bot: \" + res + '\\n\\n')\n",
    "        ChatLog.config(state=DISABLED)\n",
    "        ChatLog.yview(END)\n",
    "base = Tk()\n",
    "base.title(\"Hello\")\n",
    "base.geometry(\"400x500\")\n",
    "base.resizable(width=FALSE, height=FALSE)\n",
    "#Create Chat window\n",
    "ChatLog = Text(base, bd=0, bg=\"white\", height=\"8\", width=\"50\", font=\"Arial\",)\n",
    "ChatLog.config(state=DISABLED)\n",
    "#Bind scrollbar to Chat window\n",
    "scrollbar = Scrollbar(base, command=ChatLog.yview, cursor=\"heart\")\n",
    "ChatLog['yscrollcommand'] = scrollbar.set\n",
    "#Create Button to send message\n",
    "SendButton = Button(base, font=(\"Verdana\",12,'bold'), text=\"Send\", width=\"12\", height=5,\n",
    "                    bd=0, bg=\"#32de97\", activebackground=\"#3c9d9b\",fg='#ffffff',\n",
    "                    command= send )\n",
    "#Create the box to enter message\n",
    "EntryBox = Text(base, bd=0, bg=\"white\",width=\"29\", height=\"5\", font=\"Arial\")\n",
    "#EntryBox.bind(\"<Return>\", send)\n",
    "#Place all components on the screen\n",
    "scrollbar.place(x=376,y=6, height=386)\n",
    "ChatLog.place(x=6,y=6, height=386, width=370)\n",
    "EntryBox.place(x=128, y=401, height=90, width=265)\n",
    "SendButton.place(x=6, y=401, height=90)\n",
    "base.mainloop()"
   ]
  },
  {
   "cell_type": "code",
   "execution_count": null,
   "id": "f393a242",
   "metadata": {},
   "outputs": [],
   "source": []
  }
 ],
 "metadata": {
  "kernelspec": {
   "display_name": "Python 3",
   "language": "python",
   "name": "python3"
  },
  "language_info": {
   "codemirror_mode": {
    "name": "ipython",
    "version": 3
   },
   "file_extension": ".py",
   "mimetype": "text/x-python",
   "name": "python",
   "nbconvert_exporter": "python",
   "pygments_lexer": "ipython3",
   "version": "3.8.8"
  }
 },
 "nbformat": 4,
 "nbformat_minor": 5
}
